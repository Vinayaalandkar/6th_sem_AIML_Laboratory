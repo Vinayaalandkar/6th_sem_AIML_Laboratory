{
  "nbformat": 4,
  "nbformat_minor": 0,
  "metadata": {
    "colab": {
      "provenance": [],
      "include_colab_link": true
    },
    "kernelspec": {
      "name": "python3",
      "display_name": "Python 3"
    },
    "language_info": {
      "name": "python"
    }
  },
  "cells": [
    {
      "cell_type": "markdown",
      "metadata": {
        "id": "view-in-github",
        "colab_type": "text"
      },
      "source": [
        "<a href=\"https://colab.research.google.com/github/Vinayaalandkar/6th_sem_AIML_Laboratory/blob/main/lab4.ipynb\" target=\"_parent\"><img src=\"https://colab.research.google.com/assets/colab-badge.svg\" alt=\"Open In Colab\"/></a>"
      ]
    },
    {
      "cell_type": "code",
      "source": [
        "\n",
        "import pandas as pd\n",
        "df = pd.read_csv(\"/content/drive/MyDrive/enjoysport.csv\")\n",
        "print('The dataset is:\\n', df)"
      ],
      "metadata": {
        "colab": {
          "base_uri": "https://localhost:8080/"
        },
        "id": "gzdxrH_Iolrh",
        "outputId": "9a19dcc9-836a-4a7b-e7f1-d4f2e558c539"
      },
      "execution_count": null,
      "outputs": [
        {
          "output_type": "stream",
          "name": "stdout",
          "text": [
            "The dataset is:\n",
            "      sky airtemp humidity    wind water forecast enjoy\n",
            "0  sunny    warm   normal  strong  warm     same     Y\n",
            "1  sunny    warm     high  strong  warm     same     Y\n",
            "2  rainy    cold     high  strong  warm   change     N\n",
            "3  sunny    warm     high  strong  cool   change     Y\n"
          ]
        }
      ]
    },
    {
      "cell_type": "code",
      "source": [
        "\n",
        "data = df.iloc[0:, 0:7].values"
      ],
      "metadata": {
        "id": "UsHreCOmosc_"
      },
      "execution_count": null,
      "outputs": []
    },
    {
      "cell_type": "code",
      "source": [
        "\n",
        "h = ['0','0','0','0','0','0']"
      ],
      "metadata": {
        "id": "h1Jsj8pqougb"
      },
      "execution_count": null,
      "outputs": []
    },
    {
      "cell_type": "code",
      "source": [
        "def Generalize(h, a):\n",
        "    for i in range(len(a)):\n",
        "        if(h[i] != a[i]):\n",
        "            h[i] = '?'\n",
        "        else:\n",
        "            h[i] = a[i]\n",
        "    return(h)"
      ],
      "metadata": {
        "id": "75kvJX9QoxaX"
      },
      "execution_count": null,
      "outputs": []
    },
    {
      "cell_type": "code",
      "source": [
        "X = data[:, 0:6]\n",
        "Y = data[:, -1]\n",
        "if Y[0] == \"Y\":\n",
        "    h = X[0,:]\n",
        "else:\n",
        "    print(\"Error: First Example in not positive\")\n",
        "\n",
        "for i in range(len(X)):\n",
        "    if(Y[i] == \"Y\"):\n",
        "        h = Generalize(h,X[i,:])\n",
        "\n",
        "print(\"The more general than hypothesis is:\", h)"
      ],
      "metadata": {
        "colab": {
          "base_uri": "https://localhost:8080/"
        },
        "id": "liGS1qe1ozun",
        "outputId": "4478588a-383d-4f73-c319-932a7fa0c5ae"
      },
      "execution_count": null,
      "outputs": [
        {
          "output_type": "stream",
          "name": "stdout",
          "text": [
            "The more general than hypothesis is: ['sunny' 'warm' '?' 'strong' '?' '?']\n"
          ]
        }
      ]
    }
  ]
}